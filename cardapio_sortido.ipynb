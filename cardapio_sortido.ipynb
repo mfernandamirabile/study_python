{
 "cells": [
  {
   "cell_type": "markdown",
   "metadata": {},
   "source": [
    "# CARDÁPIO SORTIDO\n"
   ]
  },
  {
   "cell_type": "markdown",
   "metadata": {},
   "source": [
    "Esse código cria um cardápio com 3 itens, sendo um deles a Salada Misteriosa.\n",
    "A Salada Misteriosa é composta por alguns ingredientes fixos e por frutas, as quais são escolhidas aleatoriamente a cada pedido através da biblioteca random."
   ]
  },
  {
   "cell_type": "code",
   "execution_count": 1,
   "metadata": {},
   "outputs": [],
   "source": [
    "# Importando biblioteca\n",
    "from random import sample"
   ]
  },
  {
   "cell_type": "code",
   "execution_count": 2,
   "metadata": {},
   "outputs": [
    {
     "name": "stdout",
     "output_type": "stream",
     "text": [
      "Esse é o nosso cardápio {1: 'Hambúguer', 2: 'Hotdog', 3: 'Salada Misteriosa'}\n",
      "Escolha os pedidos por seus respectivos números\n"
     ]
    }
   ],
   "source": [
    "# Criando dicionário do cardápio e mostra o cardápio para usuário\n",
    "cardapio = {1 : 'Hambúguer', 2 : 'Hotdog', 3 : 'Salada Misteriosa'}\n",
    "produtos = cardapio.values()\n",
    "id_produto = cardapio.keys()\n",
    "print(f'Esse é o nosso cardápio {cardapio}\\nEscolha os pedidos por seus respectivos números')"
   ]
  },
  {
   "cell_type": "code",
   "execution_count": 3,
   "metadata": {},
   "outputs": [],
   "source": [
    "# Lista das frutas sortidas\n",
    "frutas = [\"maçã\", \"banana\", \"uva\", \"pêra\", \n",
    "          \"manga\", \"coco\", \"melancia\", \"mamão\",\n",
    "          \"laranja\", \"abacaxi\", \"kiwi\", \"ameixa\"]\n",
    "frutas_escolhidas = sample(frutas, 3) # adiciona à variável uma lista de 3 elementos dentre os elementos da lista \"frutas\""
   ]
  },
  {
   "cell_type": "code",
   "execution_count": 4,
   "metadata": {},
   "outputs": [],
   "source": [
    "# Fazendo pedido do usuário\n",
    "fazer_pedido = input('Deseja fazer um pedido? (s ou n)\\n').lower()\n",
    "\n",
    "# Impedindo que usuário digite algo diferente de s ou n\n",
    "while fazer_pedido != 's' and fazer_pedido != 'n':\n",
    "    print('Opção inválida! Digite s para sim ou n para não')\n",
    "    fazer_pedido = input('Deseja fazer um pedido? (s ou n)\\n').lower()\n",
    "\n",
    "# Registrando e mostrando pedido\n",
    "while fazer_pedido == 's':\n",
    "    id_produto = int(input('Qual é o número do seu pedido?\\n'))\n",
    "    # Se for a Salada Misteriosa, faz a escolha das frutas aleatoriamente\n",
    "    if id_produto == 3:\n",
    "        print(f'A frutas da sua saladas serão: {frutas_escolhidas}')\n",
    "    print(f'Pedido realizado com sucesso! Você pediu {cardapio[id_produto]}')\n",
    "    fazer_pedido = input('Deseja fazer outro pedido? (s ou n)\\n').lower()\n",
    "    # Impedindo que usuário digite algo diferente de s ou n\n",
    "    while fazer_pedido != 's' and fazer_pedido != 'n':\n",
    "        print('Opção inválida! Digite s para sim ou n para não')\n",
    "        fazer_pedido = input('Deseja fazer um pedido? (s ou n)\\n').lower()\n",
    "    frutas_escolhidas = sample(frutas, 3)"
   ]
  }
 ],
 "metadata": {
  "kernelspec": {
   "display_name": "venv-study_python",
   "language": "python",
   "name": "python3"
  },
  "language_info": {
   "codemirror_mode": {
    "name": "ipython",
    "version": 3
   },
   "file_extension": ".py",
   "mimetype": "text/x-python",
   "name": "python",
   "nbconvert_exporter": "python",
   "pygments_lexer": "ipython3",
   "version": "3.11.4"
  },
  "orig_nbformat": 4
 },
 "nbformat": 4,
 "nbformat_minor": 2
}

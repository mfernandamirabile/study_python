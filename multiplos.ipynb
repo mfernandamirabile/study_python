{
 "cells": [
  {
   "cell_type": "markdown",
   "metadata": {},
   "source": [
    "# MÚLTIPLOS DE TRÊS"
   ]
  },
  {
   "cell_type": "markdown",
   "metadata": {},
   "source": [
    "Esse código seleciona os múltiplos de 3 a partir de uma lista dada pelo usuário"
   ]
  },
  {
   "cell_type": "code",
   "execution_count": 1,
   "metadata": {},
   "outputs": [],
   "source": [
    "# Função para selecionar o múltiplos de 3\n",
    "def multiplo_de_3(lista):\n",
    "    mult_3 = []\n",
    "    for i in lista:\n",
    "        if i % 3 == 0: # múltiplo de 3 é aquele número que dividido por 3 tem resto 0 e ésse cáculo é realizado nessa linha\n",
    "            mult_3.append(i)\n",
    "    return mult_3"
   ]
  },
  {
   "cell_type": "code",
   "execution_count": 6,
   "metadata": {},
   "outputs": [
    {
     "name": "stdout",
     "output_type": "stream",
     "text": [
      "[3]\n",
      "[3, 44]\n",
      "[3, 44, 55]\n",
      "[3, 44, 55, 21]\n",
      "[3, 44, 55, 21]\n"
     ]
    }
   ],
   "source": [
    "# Pede lista de número para o usuário\n",
    "numero = []\n",
    "numero.append(int(input('Digite um número\\n')))\n",
    "print(numero)\n",
    "continuar = input('Deseja continuar? (s ou n)\\n').lower()\n",
    "\n",
    "# Impedindo que usuário digite algo diferente de s ou n\n",
    "while continuar != 's' and continuar != 'n':\n",
    "    print('Opção inválida! Digite s para sim ou n para não')\n",
    "    continuar = input('Deseja continuar? (s ou n)\\n').lower()\n",
    "\n",
    "# Continuando a formação da lista\n",
    "while continuar == 's':\n",
    "    numero.append(int(input('Digite um número\\n')))\n",
    "    print(numero)\n",
    "    continuar = input('Deseja continuar? (s ou n)\\n').lower()\n",
    "print(numero)"
   ]
  },
  {
   "cell_type": "code",
   "execution_count": 7,
   "metadata": {},
   "outputs": [
    {
     "name": "stdout",
     "output_type": "stream",
     "text": [
      "Os múltiplos de três em sua lista são: [3, 21]\n"
     ]
    }
   ],
   "source": [
    "# Calcula os múltiplos, armazena em variável e printa o resultado\n",
    "resultado = multiplo_de_3(numero)\n",
    "print(f'Os múltiplos de três em sua lista são: {resultado}')"
   ]
  }
 ],
 "metadata": {
  "kernelspec": {
   "display_name": "venv-study_python",
   "language": "python",
   "name": "python3"
  },
  "language_info": {
   "codemirror_mode": {
    "name": "ipython",
    "version": 3
   },
   "file_extension": ".py",
   "mimetype": "text/x-python",
   "name": "python",
   "nbconvert_exporter": "python",
   "pygments_lexer": "ipython3",
   "version": "3.11.4"
  },
  "orig_nbformat": 4
 },
 "nbformat": 4,
 "nbformat_minor": 2
}

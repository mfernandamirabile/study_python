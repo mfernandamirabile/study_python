{
 "cells": [
  {
   "cell_type": "markdown",
   "metadata": {},
   "source": [
    "# NOTAS EM COMPETIÇÃO DE SKATE"
   ]
  },
  {
   "cell_type": "markdown",
   "metadata": {},
   "source": [
    "Esse código calcula a média das notas dos jurados numa competição de skate, tirando a maior e menor nota"
   ]
  },
  {
   "cell_type": "code",
   "execution_count": 2,
   "metadata": {},
   "outputs": [
    {
     "name": "stdout",
     "output_type": "stream",
     "text": [
      "[10.0]\n",
      "[10.0, 2.3]\n",
      "[10.0, 2.3, 7.8]\n",
      "[10.0, 2.3, 7.8, 6.8]\n",
      "[10.0, 2.3, 7.8, 6.8, 9.0]\n"
     ]
    }
   ],
   "source": [
    "# Acrescentando a notas dos jurados à lista\n",
    "notas_total = []\n",
    "for x in range(1,6):\n",
    "    nota = float(input(f'Digite a {x} nota\\n'))\n",
    "    notas_total.append(nota)\n",
    "    print(notas_total)"
   ]
  },
  {
   "cell_type": "code",
   "execution_count": 3,
   "metadata": {},
   "outputs": [],
   "source": [
    "# Tirando a menor nota\n",
    "minimo = min(notas_total)\n",
    "notas_total.remove(minimo)"
   ]
  },
  {
   "cell_type": "code",
   "execution_count": 4,
   "metadata": {},
   "outputs": [],
   "source": [
    "# Tirando a maior nota\n",
    "maximo = max(notas_total)\n",
    "notas_total.remove(maximo)"
   ]
  },
  {
   "cell_type": "code",
   "execution_count": 5,
   "metadata": {},
   "outputs": [],
   "source": [
    "# Calculando a média das notas\n",
    "def media(lista):\n",
    "    calculo = (sum(lista))/len(lista)\n",
    "    return calculo"
   ]
  },
  {
   "cell_type": "code",
   "execution_count": 6,
   "metadata": {},
   "outputs": [
    {
     "name": "stdout",
     "output_type": "stream",
     "text": [
      "A média das notas dos jurados([7.8, 6.8, 9.0]) é:7.86666666666666\n"
     ]
    }
   ],
   "source": [
    "# Mostrando a média das notas\n",
    "resultado = media(notas_total)\n",
    "print(f'A média das notas dos jurados({notas_total}) é: \\b{resultado}\\b')"
   ]
  }
 ],
 "metadata": {
  "kernelspec": {
   "display_name": "venv-study_python",
   "language": "python",
   "name": "python3"
  },
  "language_info": {
   "codemirror_mode": {
    "name": "ipython",
    "version": 3
   },
   "file_extension": ".py",
   "mimetype": "text/x-python",
   "name": "python",
   "nbconvert_exporter": "python",
   "pygments_lexer": "ipython3",
   "version": "3.11.4"
  },
  "orig_nbformat": 4
 },
 "nbformat": 4,
 "nbformat_minor": 2
}

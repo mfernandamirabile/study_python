{
 "cells": [
  {
   "cell_type": "markdown",
   "metadata": {},
   "source": [
    "# RAIZ QUADRADA"
   ]
  },
  {
   "cell_type": "markdown",
   "metadata": {},
   "source": [
    "Esse código armazena em um dicionário os numéros em uma lista e suas respectivas raízes quadradas"
   ]
  },
  {
   "cell_type": "code",
   "execution_count": 3,
   "metadata": {},
   "outputs": [],
   "source": [
    "from gettext import install\n",
    "import numpy\n",
    "import pip"
   ]
  },
  {
   "cell_type": "code",
   "execution_count": 5,
   "metadata": {},
   "outputs": [],
   "source": [
    "# Importando bi lioteca NUmpy\n",
    "import numpy as np\n",
    "\n",
    "# Lista de números\n",
    "numeros = [2, 8, 15, 23, 91, 112, 256]\n",
    "\n",
    "# Lista das raízes quadradas\n",
    "raiz_quadrada = [np.sqrt(numeros)]\n",
    "\n",
    "# Dicionário com as raízes quadradas e seus respectivos números\n",
    "dicionario = dict(zip(numeros,np.sqrt(numeros).tolist()))"
   ]
  },
  {
   "cell_type": "code",
   "execution_count": 6,
   "metadata": {},
   "outputs": [
    {
     "name": "stdout",
     "output_type": "stream",
     "text": [
      "{2: 1.4142135623730951, 8: 2.8284271247461903, 15: 3.872983346207417, 23: 4.795831523312719, 91: 9.539392014169456, 112: 10.583005244258363, 256: 16.0}\n"
     ]
    }
   ],
   "source": [
    "# Mostrando resultando\n",
    "print(dicionario)"
   ]
  }
 ],
 "metadata": {
  "kernelspec": {
   "display_name": "venv-study_python",
   "language": "python",
   "name": "python3"
  },
  "language_info": {
   "codemirror_mode": {
    "name": "ipython",
    "version": 3
   },
   "file_extension": ".py",
   "mimetype": "text/x-python",
   "name": "python",
   "nbconvert_exporter": "python",
   "pygments_lexer": "ipython3",
   "version": "3.11.4"
  },
  "orig_nbformat": 4
 },
 "nbformat": 4,
 "nbformat_minor": 2
}

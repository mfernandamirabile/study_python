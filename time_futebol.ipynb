{
 "cells": [
  {
   "cell_type": "markdown",
   "metadata": {},
   "source": [
    "# CAMPEONATO DE FUTEBOL"
   ]
  },
  {
   "cell_type": "markdown",
   "metadata": {},
   "source": [
    "Esse código mostra a quantidade de pontos feitos por um time de futebol durante com campeonato e qual foi seu aproveitamento.\n",
    "Sendo que para cada vitória do time, são acrescentados 3 pontos, cada empate, 1 ponto e cada derrota 0 ponto.\n",
    "O aproveitamento é a divisão dos pontos feitos pelo time pelo máximo de pontos que poderiam ser feitos."
   ]
  },
  {
   "cell_type": "code",
   "execution_count": 61,
   "metadata": {},
   "outputs": [],
   "source": [
    "# Função para calcular a pontuação e aproveitamento do time\n",
    "def calcula_pontos(marcados, sofridos):\n",
    "    pontuacao = []\n",
    "    resultado = [marcados[i] - sofridos[i] for i in range(min(len(marcados), len(sofridos)))] #faz a subtração da lista de gols marcados pela lista de gols sofridos\n",
    "    for i in range(len(resultado)): #acrescenta a pontução individual de cada partida na lista pontuacao\n",
    "        if i > 0:\n",
    "            pontuacao.append(3)\n",
    "        elif i == 0:\n",
    "            pontuacao.append(1)\n",
    "        elif i < 0:\n",
    "            pontuacao.append(0)\n",
    "    soma_pontos = sum(pontuacao)\n",
    "    aproveitamento = (soma_pontos / (3 * (len(resultado)))) * 100\n",
    "    return soma_pontos, aproveitamento\n",
    "    "
   ]
  },
  {
   "cell_type": "code",
   "execution_count": 62,
   "metadata": {},
   "outputs": [
    {
     "name": "stdout",
     "output_type": "stream",
     "text": [
      "A pontuação do time foi de 4 e seu aproveitamento foi de 66.66666666666666%\n"
     ]
    }
   ],
   "source": [
    "# Pergunta para o usuário quantas partidas aconteceram e quais foram os placares\n",
    "# Com base na resposta, mostra o pontuação final e o aproveitamento\n",
    "partidas = int(input('Quantas partidas teve o campeonato?\\n'))\n",
    "gols_marcados = []\n",
    "gols_sofridos = []\n",
    "for x in range(1, (partidas + 1)): #loop com base no número de partidas (como o range só percorre o parêmetro de parada - 1, teve que acrscentar o + 1)\n",
    "    gols_marcados.append(int(input(f'Insira a quantidade de gols marcados na {x}ª partida (Se não teve nenhum gol, coloque 0)\\n')))\n",
    "    gols_sofridos.append(int(input(f'Insira a quantidade de gols sofridos na {x}ª partida (Se não teve nenhum gol, coloque 0)\\n')))\n",
    "soma_pontos, aproveitamento= calcula_pontos(gols_marcados, gols_sofridos) #faz a separação do grupo de variáveis gerados pela função e faz com que recebam os parâmetros de soma e aproveitamento \n",
    "print(f\"A pontuação do time foi de {soma_pontos} e seu aproveitamento foi de {aproveitamento}%\")"
   ]
  }
 ],
 "metadata": {
  "kernelspec": {
   "display_name": "venv-study_python",
   "language": "python",
   "name": "python3"
  },
  "language_info": {
   "codemirror_mode": {
    "name": "ipython",
    "version": 3
   },
   "file_extension": ".py",
   "mimetype": "text/x-python",
   "name": "python",
   "nbconvert_exporter": "python",
   "pygments_lexer": "ipython3",
   "version": "3.11.4"
  },
  "orig_nbformat": 4
 },
 "nbformat": 4,
 "nbformat_minor": 2
}

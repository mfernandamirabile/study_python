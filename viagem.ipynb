{
 "cells": [
  {
   "cell_type": "markdown",
   "metadata": {},
   "source": [
    "# CÁLCULO DE CUSTO DE VIAGEM"
   ]
  },
  {
   "cell_type": "markdown",
   "metadata": {},
   "source": [
    "Esse código calcula o custo de viagem ida e volta, incluindo hotel, gasolina e passeio, de uma pessoa que vai de Recife para Salvador ou Fortaleza ou Natal ou Aracajú"
   ]
  },
  {
   "cell_type": "code",
   "execution_count": 5,
   "metadata": {},
   "outputs": [],
   "source": [
    "# Função para calcular gasto com o hotel\n",
    "# Considerando que só pode viajar de Recife para uma \n",
    "# das quatro cidades (Salvador, Fortaleza, Natal e Aracaju)\n",
    "def calcula_hotel(dias):\n",
    "    gasto_hotel = 150 * dias\n",
    "    return gasto_hotel"
   ]
  },
  {
   "cell_type": "code",
   "execution_count": 6,
   "metadata": {},
   "outputs": [],
   "source": [
    "# Função para calcular custo da gasolina\n",
    "# Considerando que só pode viajar de Recife para uma \n",
    "# das quatro cidades (Salvador, Fortaleza, Natal e Aracaju)\n",
    "# e que a viagem é de ida e volta\n",
    "def calcula_gasolina(cidade):\n",
    "    if cidade == \"SALVADOR\":\n",
    "        litro = 850/14\n",
    "        gasto_gasolina = (litro * 2) * 5\n",
    "    elif cidade == \"FORTALEZA\":\n",
    "        litro = 800/14\n",
    "        gasto_gasolina = (litro * 2)* 5\n",
    "    elif cidade == \"NATAL\":\n",
    "        litro = 300/14\n",
    "        gasto_gasolina = (litro * 2)* 5\n",
    "    elif cidade == \"ARACAJU\":\n",
    "        litro = 550/14\n",
    "        gasto_gasolina = (litro * 2)* 5\n",
    "    return gasto_gasolina"
   ]
  },
  {
   "cell_type": "code",
   "execution_count": 7,
   "metadata": {},
   "outputs": [],
   "source": [
    "# Função para calcular gasto com passeio\n",
    "# Considerando que só pode viajar de Recife para uma \n",
    "# das quatro cidades (Salvador, Fortaleza, Natal e Aracaju)\n",
    "def calcula_passeio(dias, cidade):\n",
    "    if cidade == \"SALVADOR\":\n",
    "        gasto_passeio = 200 * dias\n",
    "    elif cidade == \"FORTALEZA\":\n",
    "        gasto_passeio = 400 * dias\n",
    "    elif cidade == \"NATAL\":\n",
    "        gasto_passeio = 250 * dias\n",
    "    elif cidade == \"ARACAJU\":\n",
    "        gasto_passeio = 300 * dias\n",
    "    return gasto_passeio"
   ]
  },
  {
   "cell_type": "code",
   "execution_count": 9,
   "metadata": {},
   "outputs": [
    {
     "name": "stdout",
     "output_type": "stream",
     "text": [
      "Resposta inváilda, digite uma das quatro cidades (Salvador, Fortaleza, Natal e Aracaju) e tente novamente.\n",
      "Com base nos gastos definidos, uma viagem de 2 dias para SALVADOR saindo de Recife custaria 1307.14 reais\n"
     ]
    }
   ],
   "source": [
    "# Pergunta para o usuário a cidade de destinos e os dias passados e mostra o gasto total\n",
    "cidade = input('Para qual cidade você vai viajar? (Salvador, Fortaleza, Natal e Aracaju)\\n').upper()\n",
    "# Impede de colocar outro nome sem ser os delimitados\n",
    "while cidade != 'SALVADOR' and cidade!= 'FORTALEZA' and cidade != 'NATAL' and cidade != 'ARACAJU':\n",
    "    print('Resposta inváilda, digite uma das quatro cidades (Salvador, Fortaleza, Natal e Aracaju) e tente novamente.')\n",
    "    cidade = input('Para qual cidade você vai viajar? (Salvador, Fortaleza, Natal e Aracaju)\\n').upper()\n",
    "dias = int(input(f'Quantos dias você vai passar em {cidade}\\n'))\n",
    "gasto_hotel = calcula_hotel(dias)\n",
    "gasto_gasolina = calcula_gasolina(cidade)\n",
    "gasto_passeio = calcula_passeio(dias, cidade)\n",
    "gasto_total = gasto_hotel + gasto_gasolina + gasto_passeio\n",
    "# Mostrando resultado\n",
    "print(f'Com base nos gastos definidos, uma viagem de {dias} dias para {cidade} saindo de Recife custaria {gasto_total:.2f} reais')"
   ]
  }
 ],
 "metadata": {
  "kernelspec": {
   "display_name": "venv-study_python",
   "language": "python",
   "name": "python3"
  },
  "language_info": {
   "codemirror_mode": {
    "name": "ipython",
    "version": 3
   },
   "file_extension": ".py",
   "mimetype": "text/x-python",
   "name": "python",
   "nbconvert_exporter": "python",
   "pygments_lexer": "ipython3",
   "version": "3.11.4"
  },
  "orig_nbformat": 4
 },
 "nbformat": 4,
 "nbformat_minor": 2
}
